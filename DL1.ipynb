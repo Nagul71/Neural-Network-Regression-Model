{
  "nbformat": 4,
  "nbformat_minor": 0,
  "metadata": {
    "colab": {
      "provenance": []
    },
    "kernelspec": {
      "name": "python3",
      "display_name": "Python 3"
    },
    "language_info": {
      "name": "python"
    }
  },
  "cells": [
    {
      "cell_type": "markdown",
      "source": [
        "# Linear Equation is Y=2X+5"
      ],
      "metadata": {
        "id": "xsQ4-U8hmf13"
      }
    },
    {
      "cell_type": "code",
      "execution_count": null,
      "metadata": {
        "id": "VJOBET7aZuAs"
      },
      "outputs": [],
      "source": [
        "import torch\n",
        "import torch.nn as nn\n",
        "import torch.optim as optim\n",
        "import pandas as pd\n",
        "from sklearn.model_selection import train_test_split\n",
        "from sklearn.preprocessing import MinMaxScaler"
      ]
    },
    {
      "cell_type": "code",
      "source": [
        "dataset1 = pd.read_csv('Book1.csv')\n",
        "X = dataset1[['Input']].values\n",
        "y = dataset1[['Output']].values"
      ],
      "metadata": {
        "id": "PaKxT9lYZ7_r"
      },
      "execution_count": null,
      "outputs": []
    },
    {
      "cell_type": "code",
      "source": [
        "X_train, X_test, y_train, y_test = train_test_split(X, y, test_size=0.33, random_state=33)"
      ],
      "metadata": {
        "id": "0s9XNKnraBB1"
      },
      "execution_count": null,
      "outputs": []
    },
    {
      "cell_type": "code",
      "source": [
        "scaler = MinMaxScaler()\n",
        "X_train = scaler.fit_transform(X_train)\n",
        "X_test = scaler.transform(X_test)"
      ],
      "metadata": {
        "id": "YhvC6ogzaEHT"
      },
      "execution_count": null,
      "outputs": []
    },
    {
      "cell_type": "code",
      "source": [
        "X_train_tensor = torch.tensor(X_train, dtype=torch.float32)\n",
        "y_train_tensor = torch.tensor(y_train, dtype=torch.float32).view(-1, 1)\n",
        "X_test_tensor = torch.tensor(X_test, dtype=torch.float32)\n",
        "y_test_tensor = torch.tensor(y_test, dtype=torch.float32).view(-1, 1)"
      ],
      "metadata": {
        "id": "ht0VjANUaImU"
      },
      "execution_count": null,
      "outputs": []
    },
    {
      "cell_type": "code",
      "source": [
        "# Name: K Nagul\n",
        "# Register Number: 212222230089\n",
        "class NeuralNet(nn.Module):\n",
        "  def __init__(self):\n",
        "        super().__init__()\n",
        "        self.history = {'loss': []}\n",
        "        self.linear1 = nn.Linear(1, 12)\n",
        "        self.linear2 = nn.Linear(12, 10)\n",
        "        self.linear3 = nn.Linear(10, 1)\n",
        "        self.relu = nn.ReLU()\n",
        "\n",
        "  def forward(self,x):\n",
        "    x = self.relu(self.linear1(x))\n",
        "    x = self.relu(self.linear2(x))\n",
        "    x = self.linear3(x)\n",
        "    return x\n",
        "\n",
        "\n",
        "\n",
        "\n"
      ],
      "metadata": {
        "id": "sFkMMUXwIsxs"
      },
      "execution_count": null,
      "outputs": []
    },
    {
      "cell_type": "code",
      "source": [
        "# Initialize the Model, Loss Function, and Optimizer\n",
        "ai_brain = NeuralNet()\n",
        "criterion = nn.MSELoss()\n",
        "optimizer = optim.RMSprop(ai_brain.parameters(), lr=0.001)"
      ],
      "metadata": {
        "id": "LYCcZwd3aVXr"
      },
      "execution_count": null,
      "outputs": []
    },
    {
      "cell_type": "code",
      "source": [
        "# Name: K Nagul\n",
        "# Register Number: 212222230089\n",
        "def train_model(ai_brain, X_train, y_train, criterion, optimizer, epochs=2000):\n",
        "  for epoch in range(epochs):\n",
        "    optimizer.zero_grad()\n",
        "    loss = criterion(ai_brain(X_train), y_train)\n",
        "    loss.backward()\n",
        "    optimizer.step()\n",
        "\n",
        "    ai_brain.history['loss'].append(loss.item())\n",
        "    if epoch % 200 == 0:\n",
        "        print(f'Epoch [{epoch}/{epochs}], Loss: {loss.item():.6f}')\n"
      ],
      "metadata": {
        "id": "j04FRGu5aabj"
      },
      "execution_count": null,
      "outputs": []
    },
    {
      "cell_type": "code",
      "source": [
        "train_model(ai_brain, X_train_tensor, y_train_tensor, criterion, optimizer)\n"
      ],
      "metadata": {
        "id": "3nT2R4-NanGb",
        "colab": {
          "base_uri": "https://localhost:8080/"
        },
        "outputId": "524f1e95-d80b-45d2-f9c2-997c09fab9c3"
      },
      "execution_count": null,
      "outputs": [
        {
          "output_type": "stream",
          "name": "stdout",
          "text": [
            "Epoch [0/2000], Loss: 0.002929\n",
            "Epoch [200/2000], Loss: 0.002942\n",
            "Epoch [400/2000], Loss: 0.002940\n",
            "Epoch [600/2000], Loss: 0.002935\n",
            "Epoch [800/2000], Loss: 0.002950\n",
            "Epoch [1000/2000], Loss: 0.002945\n",
            "Epoch [1200/2000], Loss: 0.002936\n",
            "Epoch [1400/2000], Loss: 0.002927\n",
            "Epoch [1600/2000], Loss: 0.002941\n",
            "Epoch [1800/2000], Loss: 0.002941\n"
          ]
        }
      ]
    },
    {
      "cell_type": "code",
      "source": [
        "with torch.no_grad():\n",
        "    test_loss = criterion(ai_brain(X_test_tensor), y_test_tensor)\n",
        "    print(f'Test Loss: {test_loss.item():.6f}')\n"
      ],
      "metadata": {
        "id": "Hs52rJD-aq-r",
        "colab": {
          "base_uri": "https://localhost:8080/"
        },
        "outputId": "79b10f63-0108-4997-c461-6f046e25a4a4"
      },
      "execution_count": null,
      "outputs": [
        {
          "output_type": "stream",
          "name": "stdout",
          "text": [
            "Test Loss: 0.045461\n"
          ]
        }
      ]
    },
    {
      "cell_type": "code",
      "source": [
        "loss_df = pd.DataFrame(ai_brain.history)"
      ],
      "metadata": {
        "id": "fSU0R1jPYzBY"
      },
      "execution_count": null,
      "outputs": []
    },
    {
      "cell_type": "code",
      "source": [
        "import matplotlib.pyplot as plt\n",
        "loss_df.plot()\n",
        "plt.xlabel(\"Epochs\")\n",
        "plt.ylabel(\"Loss\")\n",
        "plt.title(\"Loss during Training\")\n",
        "plt.show()"
      ],
      "metadata": {
        "id": "XRU1WLwAZuh4",
        "colab": {
          "base_uri": "https://localhost:8080/",
          "height": 472
        },
        "outputId": "70beb532-7a1a-482c-f9a0-8540b7e7e096"
      },
      "execution_count": null,
      "outputs": [
        {
          "output_type": "display_data",
          "data": {
            "text/plain": [
              "<Figure size 640x480 with 1 Axes>"
            ],
            "image/png": "[encoded data removed]"
          },
          "metadata": {}
        }
      ]
    },
    {
      "cell_type": "code",
      "source": [
        "X_n1_1 = torch.tensor([[9]], dtype=torch.float32)\n",
        "prediction = ai_brain(torch.tensor(scaler.transform(X_n1_1), dtype=torch.float32)).item()\n",
        "print(f'Prediction: {prediction}')"
      ],
      "metadata": {
        "id": "mr_JhBRZauxb",
        "colab": {
          "base_uri": "https://localhost:8080/"
        },
        "outputId": "2dfb1016-3b7e-478d-9a53-646bc636bb54"
      },
      "execution_count": null,
      "outputs": [
        {
          "output_type": "stream",
          "name": "stdout",
          "text": [
            "Prediction: 23.038639068603516\n"
          ]
        }
      ]
    },
    {
      "cell_type": "code",
      "source": [
        "X_n2_2 = torch.tensor([[10]], dtype=torch.float32)\n",
        "prediction2 = ai_brain(torch.tensor(scaler.transform(X_n2_2), dtype=torch.float32)).item()\n",
        "print(f'Prediction2: {prediction2}')"
      ],
      "metadata": {
        "colab": {
          "base_uri": "https://localhost:8080/"
        },
        "id": "yfSguNAzmzAK",
        "outputId": "cc797af4-11fd-40f3-dec4-5a81b6b2146f"
      },
      "execution_count": null,
      "outputs": [
        {
          "output_type": "stream",
          "name": "stdout",
          "text": [
            "Prediction2: 25.040687561035156\n"
          ]
        }
      ]
    }
  ]
}